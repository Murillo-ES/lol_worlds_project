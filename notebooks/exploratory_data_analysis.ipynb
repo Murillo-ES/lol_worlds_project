{
 "cells": [
  {
   "cell_type": "markdown",
   "metadata": {},
   "source": [
    "# Exploratory Data Analysis\n",
    "\n",
    "The purpose of this notebook is for an exploratory data analysis on the CSVs that we created previously (as a result of our Initial Data Exploration).\n",
    "\n",
    "For this, we'll create some different charts and make calculations with the available data, looking for potential changes and/or insights that can be uncovered in the process.\n",
    "\n",
    "Then, if any modifications were done to the CSVs, we'll update them and save it in the respective folder, so we can finally create our Dashboard using Excel."
   ]
  },
  {
   "cell_type": "markdown",
   "metadata": {},
   "source": [
    "## Table of Contents\n",
    "\n",
    "- [Initial Configuration](#initial-configuration)"
   ]
  },
  {
   "cell_type": "markdown",
   "metadata": {},
   "source": [
    "### Initial Configuration\n",
    "\n",
    "Base imports for this notebook to work. We're also configuring some of those modules, to ensure that the code runs smoothly and the visualization is clean."
   ]
  },
  {
   "cell_type": "code",
   "execution_count": 3,
   "metadata": {},
   "outputs": [],
   "source": [
    "import os\n",
    "import sys\n",
    "import pandas as pd\n",
    "import seaborn as sns\n",
    "import matplotlib.pyplot as plt"
   ]
  },
  {
   "cell_type": "code",
   "execution_count": 4,
   "metadata": {},
   "outputs": [
    {
     "name": "stderr",
     "output_type": "stream",
     "text": [
      "2024-08-11 19:04:13,642 - INFO - champions_stats loaded succesfully.\n",
      "2024-08-11 19:04:13,644 - INFO - champions_stats_s1_to_s3 loaded succesfully.\n",
      "2024-08-11 19:04:13,646 - INFO - champions_stats_s4_to_s9 loaded succesfully.\n",
      "2024-08-11 19:04:13,649 - INFO - champions_stats_s10_above loaded succesfully.\n",
      "2024-08-11 19:04:13,656 - INFO - matchs_stats loaded succesfully.\n",
      "2024-08-11 19:04:13,660 - INFO - players_stats loaded succesfully.\n",
      "2024-08-11 19:04:13,661 - INFO - players_stats_s1_to_s3 loaded succesfully.\n",
      "2024-08-11 19:04:13,663 - INFO - players_stats_s4_to_s9 loaded succesfully.\n",
      "2024-08-11 19:04:13,665 - INFO - players_stats_s10_above loaded succesfully.\n"
     ]
    }
   ],
   "source": [
    "# Ensuring the data loading script directory is in the system path\n",
    "sys.path.insert(0, os.path.abspath('..'))\n",
    "\n",
    "import data_loading\n",
    "\n",
    "# Set up logging\n",
    "data_loading.setup_logging()\n",
    "\n",
    "# Loading data\n",
    "champions_stats, champions_stats_s1_to_s3, champions_stats_s4_to_s9, champions_stats_s10_above, matchs_stats, players_stats, players_stats_s1_to_s3, players_stats_s4_to_s9, players_stats_s10_above = data_loading.load_clean_data()\n",
    "\n",
    "# Configuring pandas\n",
    "pd.set_option('display.max_columns', None)\n",
    "pd.set_option('display.float_format', lambda x: '%.2f' % x) # Sets float values with two decimals\n",
    "pd.options.mode.copy_on_write = True\n",
    "\n",
    "# Configuring Seaborn and Matplotlib\n",
    "plt.rcParams['figure.figsize'] = (30, 10)"
   ]
  }
 ],
 "metadata": {
  "kernelspec": {
   "display_name": ".venv",
   "language": "python",
   "name": "python3"
  },
  "language_info": {
   "codemirror_mode": {
    "name": "ipython",
    "version": 3
   },
   "file_extension": ".py",
   "mimetype": "text/x-python",
   "name": "python",
   "nbconvert_exporter": "python",
   "pygments_lexer": "ipython3",
   "version": "3.12.4"
  }
 },
 "nbformat": 4,
 "nbformat_minor": 2
}
